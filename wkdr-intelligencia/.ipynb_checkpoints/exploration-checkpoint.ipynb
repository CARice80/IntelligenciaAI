{
 "cells": [
  {
   "cell_type": "code",
   "execution_count": 1,
   "metadata": {},
   "outputs": [
    {
     "name": "stderr",
     "output_type": "stream",
     "text": [
      "/home/sklave/.local/lib/python3.7/site-packages/xenaPython/__init__.py:110: FutureWarning: Possible nested set at position 7\n",
      "  re.sub(r\"^[^[]+[[]([^]]*)[]].*$\", r\"\\1\", query, flags=re.DOTALL))\n"
     ]
    }
   ],
   "source": [
    "import xenaPython as xena\n",
    "\n",
    "GENES = ['FOXM1', 'TP53']\n",
    "\n",
    "def get_codes(host, dataset, fields, data):\n",
    "    \"get codes for enumerations\"\n",
    "    codes = xena.field_codes(host, dataset, fields)\n",
    "    codes_idx = dict([(x['name'], x['code'].split('\\t')) for x in codes if x['code'] is not None])\n",
    "    for i in range(len(fields)):\n",
    "        if fields[i] in codes_idx:\n",
    "            data[i] = [None if v == 'NaN' else codes_idx[fields[i]][int(v)] for v in data[i]]\n",
    "    return data\n",
    "\n",
    "def get_fields(host, dataset, samples, fields):\n",
    "    \"get field values\"\n",
    "    data = xena.dataset_fetch(host, dataset, samples, fields)\n",
    "    return data\n",
    "\n",
    "def get_fields_and_codes(host, dataset, samples, fields):\n",
    "    \"get fields and resolve codes\"\n",
    "    return get_codes( host, dataset, fields, get_fields( host, dataset, samples, fields))"
   ]
  },
  {
   "cell_type": "code",
   "execution_count": 2,
   "metadata": {},
   "outputs": [],
   "source": [
    "#\n",
    "# TCGA target cohort\n",
    "#\n",
    "\n",
    "cohort = 'TCGA TARGET GTEx'\n",
    "host = xena.PUBLIC_HUBS['toilHub']"
   ]
  },
  {
   "cell_type": "code",
   "execution_count": 3,
   "metadata": {},
   "outputs": [
    {
     "data": {
      "text/plain": [
       "['TCGA-BR-8590-01',\n",
       " 'TCGA-P4-A5E8-11',\n",
       " 'GTEX-QCQG-0326-SM-2I3ES',\n",
       " 'TCGA-J8-A3YH-06',\n",
       " 'GTEX-1399Q-2326-SM-5KM2X',\n",
       " 'GTEX-S32W-0004-SM-2XCE9',\n",
       " 'TCGA-EJ-7797-11',\n",
       " 'GTEX-11DXY-0006-SM-5NQ8N',\n",
       " 'TCGA-HU-8238-11',\n",
       " 'GTEX-YB5E-0008-SM-4VDT7']"
      ]
     },
     "execution_count": 3,
     "metadata": {},
     "output_type": "execute_result"
    }
   ],
   "source": [
    "#dataset: gene expression RNAseq - RSEM tpm\n",
    "#hub: https://toil.xenahubs.netcohort\n",
    "#TCGA TARGET GTEx\n",
    "\n",
    "#dataset IDTcgaTargetGtex_rsem_gene_tpm\n",
    "#downloadhttps://toil.xenahubs.net/download/TcgaTargetGtex_rsem_gene_tpm.gz; Full metadata\n",
    "#samples19131\n",
    "#version2016-09-03\n",
    "#type of datagene expression RNAseq\n",
    "#unitlog2(tpm+0.001)\n",
    "#ID/Gene Mappinghttps://toil.xenahubs.net/download/probeMap/gencode.v23.annotation.gene.probemap; Full metadata\n",
    "#authorUCSC TOIL RNA-seq recompute\n",
    "#wranglingData (file names: *.rsem_genes.results) are downloaded, tpm values are extracted, log2(x+0.001) transformed, and combined.\n",
    "#input data formatROWs (identifiers) x COLUMNs (samples) (i.e. genomicMatrix)\n",
    "\n",
    "\n",
    "\n",
    "\n",
    "# get samples in cohort\n",
    "samples = xena.cohort_samples(host, cohort, None)\n",
    "samples[0: 10]"
   ]
  },
  {
   "cell_type": "code",
   "execution_count": 4,
   "metadata": {},
   "outputs": [
    {
     "data": {
      "text/plain": [
       "[dict_keys(['FOXM1', 'TP53']),\n",
       " 'FOXM1',\n",
       " [4.071,\n",
       "  -0.394,\n",
       "  -0.7834,\n",
       "  -0.3022,\n",
       "  3.379,\n",
       "  4.686,\n",
       "  -0.3566,\n",
       "  -1.086,\n",
       "  2.473,\n",
       "  1.541]]"
      ]
     },
     "execution_count": 4,
     "metadata": {},
     "output_type": "execute_result"
    }
   ],
   "source": [
    "dataset = 'TcgaTargetGtex_rsem_gene_tpm'\n",
    "\n",
    "expression = xena.dataset_gene_probe_avg(host, dataset, samples, GENES)\n",
    "expression_by_gene = dict([(g['gene'], g['scores'][0]) for g in expression])\n",
    "[expression_by_gene.keys(), GENES[0], expression_by_gene[GENES[0]][0:10]]"
   ]
  },
  {
   "cell_type": "code",
   "execution_count": 5,
   "metadata": {},
   "outputs": [
    {
     "data": {
      "text/plain": [
       "['TCGA',\n",
       " 'TCGA',\n",
       " 'GTEX',\n",
       " 'TCGA',\n",
       " 'GTEX',\n",
       " 'GTEX',\n",
       " 'TCGA',\n",
       " 'GTEX',\n",
       " 'TCGA',\n",
       " 'GTEX']"
      ]
     },
     "execution_count": 5,
     "metadata": {},
     "output_type": "execute_result"
    }
   ],
   "source": [
    "dataset = 'TcgaTargetGTEX_phenotype.txt'\n",
    "fields = ['_study', '_sample_type']\n",
    "\n",
    "values = get_fields_and_codes(host, dataset, samples, fields) # list of lists\n",
    "phenotypes = dict(zip(fields, values)) # index by phenotype\n",
    "phenotypes['_study'][0:10]"
   ]
  },
  {
   "cell_type": "code",
   "execution_count": null,
   "metadata": {},
   "outputs": [],
   "source": []
  }
 ],
 "metadata": {
  "kernelspec": {
   "display_name": "Python 3",
   "language": "python",
   "name": "python3"
  },
  "language_info": {
   "codemirror_mode": {
    "name": "ipython",
    "version": 3
   },
   "file_extension": ".py",
   "mimetype": "text/x-python",
   "name": "python",
   "nbconvert_exporter": "python",
   "pygments_lexer": "ipython3",
   "version": "3.7.3rc1"
  }
 },
 "nbformat": 4,
 "nbformat_minor": 2
}
